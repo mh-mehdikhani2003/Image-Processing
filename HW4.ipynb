{
  "cells": [
    {
      "cell_type": "markdown",
      "metadata": {},
      "source": [
        "\n",
        "<br>\n",
        "<font face=\"Times New Roman\">\n",
        "<div dir=ltr align=center>\n",
        "<font color=0F5298 size=7>\n",
        "Digital Image Processing <br>\n",
        "<font color=2565AE size=5>\n",
        "Department Of Mathematical Sciences <br>\n",
        "Spring 2025<br>\n",
        "<font color=3C99D size=5>\n",
        "Assignment 4 <br>\n",
        "</div>\n",
        "\n",
        "\n",
        "---\n",
        "\n"
      ]
    },
    {
      "cell_type": "markdown",
      "metadata": {},
      "source": [
        "### Full Name :\n",
        "### Student Number :\n",
        "___"
      ]
    },
    {
      "cell_type": "markdown",
      "metadata": {
        "id": "tNJLES45zE0o"
      },
      "source": [
        "# Dilation and Erosion"
      ]
    },
    {
      "cell_type": "code",
      "execution_count": null,
      "metadata": {
        "id": "Xn9oVFBBzGH-"
      },
      "outputs": [],
      "source": [
        "def dilate(image, structuring_element):\n",
        "##################################################\n",
        "################### YOUR CODES ###################\n",
        "\n",
        "##################################################"
      ]
    },
    {
      "cell_type": "code",
      "execution_count": null,
      "metadata": {
        "id": "qCR8IFihzrkv"
      },
      "outputs": [],
      "source": [
        "def erode(image, structuring_element):\n",
        "##################################################\n",
        "################### YOUR CODES ###################\n",
        "\n",
        "##################################################"
      ]
    },
    {
      "cell_type": "markdown",
      "metadata": {
        "id": "0Wrm_64x3V54"
      },
      "source": [
        "## Noise Reduction"
      ]
    },
    {
      "cell_type": "code",
      "execution_count": null,
      "metadata": {
        "id": "SzSEYoub3VXn"
      },
      "outputs": [],
      "source": [
        "path = # your code\n",
        "noisy_image = cv2.imread(path, 0)"
      ]
    },
    {
      "cell_type": "code",
      "execution_count": null,
      "metadata": {
        "id": "cS-jFuoRzxMm"
      },
      "outputs": [],
      "source": []
    },
    {
      "cell_type": "markdown",
      "metadata": {
        "id": "oKK8SRpc8IRI"
      },
      "source": [
        "## Parallel Vertical Lines"
      ]
    },
    {
      "cell_type": "code",
      "execution_count": null,
      "metadata": {
        "id": "9kQk3pGk8H3g"
      },
      "outputs": [],
      "source": []
    },
    {
      "cell_type": "markdown",
      "metadata": {
        "id": "7eiR_8J_75UR"
      },
      "source": [
        "## Parallel Horizontal Lines"
      ]
    },
    {
      "cell_type": "code",
      "execution_count": null,
      "metadata": {
        "id": "FC-YQ1Hn8G8S"
      },
      "outputs": [],
      "source": []
    },
    {
      "cell_type": "markdown",
      "metadata": {
        "id": "UfJ9Tse_8UgY"
      },
      "source": [
        "## Edge Detecting"
      ]
    },
    {
      "cell_type": "code",
      "execution_count": null,
      "metadata": {
        "id": "xNyop2Dj8Trx"
      },
      "outputs": [],
      "source": []
    },
    {
      "cell_type": "markdown",
      "metadata": {
        "id": "WyxqLPaXgTg3"
      },
      "source": [
        "# Counting Coins"
      ]
    },
    {
      "cell_type": "code",
      "execution_count": null,
      "metadata": {
        "id": "tAP-iUqYE0Mq"
      },
      "outputs": [],
      "source": [
        "path = # your code\n",
        "coins = cv2.imread(path)"
      ]
    },
    {
      "cell_type": "code",
      "execution_count": null,
      "metadata": {
        "id": "8FI1BPvPBLOS"
      },
      "outputs": [],
      "source": []
    },
    {
      "cell_type": "code",
      "execution_count": null,
      "metadata": {
        "id": "IM0TpOYYFcVk"
      },
      "outputs": [],
      "source": []
    },
    {
      "cell_type": "markdown",
      "metadata": {
        "id": "q_VEUxVCFeT7"
      },
      "source": [
        "# Shape Descriptors"
      ]
    },
    {
      "cell_type": "code",
      "execution_count": null,
      "metadata": {
        "id": "0WYLBrpdF1_r"
      },
      "outputs": [],
      "source": [
        "from sklearn.metrics import accuracy_score\n",
        "from sklearn.neural_network import MLPClassifier"
      ]
    },
    {
      "cell_type": "markdown",
      "metadata": {
        "id": "O29zRXvtOshn"
      },
      "source": [
        "Load the Images"
      ]
    },
    {
      "cell_type": "code",
      "execution_count": null,
      "metadata": {
        "id": "TsQ5r8-AOBP9"
      },
      "outputs": [],
      "source": []
    },
    {
      "cell_type": "code",
      "execution_count": null,
      "metadata": {
        "id": "GmTI7y4lOOxd"
      },
      "outputs": [],
      "source": []
    },
    {
      "cell_type": "markdown",
      "metadata": {
        "id": "FPXp--xbOyPF"
      },
      "source": [
        "Extract Feature Vector for each Image"
      ]
    },
    {
      "cell_type": "code",
      "execution_count": null,
      "metadata": {
        "id": "WykjogOlOOlH"
      },
      "outputs": [],
      "source": []
    },
    {
      "cell_type": "markdown",
      "metadata": {
        "id": "OcQXo4GeO8f2"
      },
      "source": [
        "Classify by a Simple Model"
      ]
    },
    {
      "cell_type": "code",
      "execution_count": null,
      "metadata": {
        "id": "yDESglptOOjV"
      },
      "outputs": [],
      "source": [
        "X = # Feature vectors # your code\n",
        "y = [0, 1]  # 0 for banana leaf, 1 for autumn leaf"
      ]
    },
    {
      "cell_type": "code",
      "execution_count": null,
      "metadata": {
        "id": "3kfgabneObcV"
      },
      "outputs": [],
      "source": [
        "mlp = MLPClassifier(hidden_layer_sizes=(), max_iter=6000)\n",
        "mlp.fit(X, y)\n",
        "y_pred = mlp.predict(X)\n",
        "# Evaluate the model's accuracy\n",
        "accuracy = accuracy_score(y, y_pred)\n",
        "print(\"Accuracy:\", accuracy)"
      ]
    }
  ],
  "metadata": {
    "colab": {
      "provenance": [],
      "toc_visible": true
    },
    "kernelspec": {
      "display_name": "Python 3",
      "name": "python3"
    },
    "language_info": {
      "name": "python"
    }
  },
  "nbformat": 4,
  "nbformat_minor": 0
}
